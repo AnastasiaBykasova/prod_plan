{
 "cells": [
  {
   "cell_type": "code",
   "execution_count": 2,
   "metadata": {},
   "outputs": [],
   "source": [
    "import tkinter as tk\n",
    "from tkinter import ttk\n",
    "import sqlite3"
   ]
  },
  {
   "cell_type": "code",
   "execution_count": 14,
   "metadata": {},
   "outputs": [],
   "source": [
    "def show_greeting_window():\n",
    "    window = tk.Tk()\n",
    "    window.title(\"ProdPlan\")\n",
    "\n",
    "    window.geometry(\"400x300\")\n",
    "\n",
    "    greeting_label = tk.Label(window, text=\"Welcome\")\n",
    "    greeting_label.pack(padx=20, pady=20)\n",
    "    \n",
    "    window.mainloop()\n",
    "\n",
    "show_greeting_window()\n"
   ]
  },
  {
   "cell_type": "code",
   "execution_count": 7,
   "metadata": {},
   "outputs": [],
   "source": [
    "conn = sqlite3.connect('prod_plan.db')\n",
    "\n",
    "cursor = conn.cursor()\n",
    "\n",
    "# def drop_table(cursor):\n",
    "#     cursor.execute(\"DROP TABLE machines\")\n",
    "# drop_table(cursor)\n",
    "cursor.execute(\"DROP TABLE Станок8\")\n",
    "\n",
    "# cursor.execute('''CREATE TABLE IF NOT EXISTS machines\n",
    "#                (id INTEGER PRIMARY KEY AUTOINCREMENT,\n",
    "#                name TEXT)''')\n",
    "\n",
    "\n",
    "def add_machine(cursor, name):\n",
    "    cursor.execute(\"INSERT INTO machines (name) VALUES (?)\", (name,))\n",
    "\n",
    "machines = [\"Станок1\", \"Станок2\", \"Станок3\", \"Станок4\", \"Станок5\",\n",
    "            \"Станок6\", \"Станок7\", \"Станок8\", \"Станок9\", \"Станок10\"]\n",
    "\n",
    "# for machine in machines:\n",
    "#     add_machine(cursor, machine)\n",
    "\n"
   ]
  },
  {
   "cell_type": "code",
   "execution_count": 16,
   "metadata": {},
   "outputs": [],
   "source": [
    "def get_machines_from_db():\n",
    "    conn = sqlite3.connect('prod_plan.db')\n",
    "    cursor = conn.cursor()\n",
    "    cursor.execute(\"SELECT name FROM machines\") \n",
    "    machines = [row[0] for row in cursor.fetchall()]\n",
    "    conn.close()\n",
    "    return machines\n",
    "\n",
    "\n",
    "# def show_machines_window():\n",
    "#     machines = get_machines_from_db()\n",
    "\n",
    "#     # Создаем главное окно\n",
    "#     window = tk.Tk()\n",
    "#     window.title(\"Список станков\")\n",
    "#     window.geometry(\"400x300\")\n",
    "\n",
    "\n",
    "#     # Создаем список (Listbox) для отображения названий станков\n",
    "#     machines_list = tk.Listbox(window)\n",
    "#     for machine in machines:\n",
    "#         machines_list.insert(tk.END, machine)\n",
    "#     machines_list.pack(padx=20, pady=20)\n",
    "\n",
    "#     # Запускаем главный цикл обработки событий\n",
    "#     window.mainloop()\n"
   ]
  },
  {
   "cell_type": "code",
   "execution_count": 19,
   "metadata": {},
   "outputs": [],
   "source": [
    "\n",
    "# Создаем функцию для отображения окна с выпадающим списком и кнопкой\n",
    "def show_selection_window():\n",
    "    machines = get_machines_from_db()\n",
    "\n",
    "    def on_button_click():\n",
    "        selected_machine = machine_combobox.get()\n",
    "        label.config(text=\"Выбран станок: \" + selected_machine)\n",
    "\n",
    "    # Создаем главное окно\n",
    "    window = tk.Tk()\n",
    "    window.title(\"Выбор станка\")\n",
    "    window.geometry(\"600x500\")\n",
    "\n",
    "    # Создаем выпадающий список (Combobox) для выбора станка\n",
    "    machine_combobox = ttk.Combobox(window, values=machines)\n",
    "    machine_combobox.pack(padx=20, pady=10)\n",
    "\n",
    "    # Создаем кнопку\n",
    "    button = tk.Button(window, text=\"Выбрать\", command=on_button_click)\n",
    "    button.pack(pady=10)\n",
    "\n",
    "    # Создаем метку, которая будет отображать выбранный станок\n",
    "    label = tk.Label(window, text=\"\")\n",
    "    label.pack(pady=10)\n",
    "\n",
    "    # Запускаем главный цикл обработки событий\n",
    "    window.mainloop()\n",
    "\n",
    "# Вызываем функцию для отображения окна с выбором станка\n",
    "show_selection_window()"
   ]
  }
 ],
 "metadata": {
  "kernelspec": {
   "display_name": "Python 3",
   "language": "python",
   "name": "python3"
  },
  "language_info": {
   "codemirror_mode": {
    "name": "ipython",
    "version": 3
   },
   "file_extension": ".py",
   "mimetype": "text/x-python",
   "name": "python",
   "nbconvert_exporter": "python",
   "pygments_lexer": "ipython3",
   "version": "3.11.2"
  }
 },
 "nbformat": 4,
 "nbformat_minor": 2
}
